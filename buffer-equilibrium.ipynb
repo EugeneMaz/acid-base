{
 "cells": [
  {
   "cell_type": "code",
   "execution_count": 35,
   "id": "53fa12fc-369a-457b-aa74-58d3df3bf36e",
   "metadata": {},
   "outputs": [],
   "source": [
    "from sympy import *\n",
    "import numpy as np\n",
    "from IPython.display import display, Math, Latex"
   ]
  },
  {
   "cell_type": "code",
   "execution_count": 36,
   "id": "93586e58-24fc-4f41-83db-67d156761de7",
   "metadata": {
    "jupyter": {
     "source_hidden": true
    }
   },
   "outputs": [],
   "source": [
    "# Defining symbols\n",
    "H, B, HB, H2B, H3B = symbols(r'[H^{+}], [B^{3-}], [HB^{2-}], [H_{2}B^-], [H_{3}B]',\n",
    "                                           positive=True, real=True)\n",
    "K_1, K_2, K_3, K_1_pr, K_2_pr, K_3_pr = symbols(r'K_1, K_2, K_3, K_1^{\\prime}, K_2^{\\prime}, K_3^{\\prime}',\n",
    "                                           positive=True, real=True)\n",
    "kf_1, kb_1, kf_2, kb_2 = symbols(r'k_f^1, k_b^1, k_f^2, k_b^2',\n",
    "                                 positive=True, real=True)\n",
    "y_H, y_H3B, y_H2B, y_HB, y_B = symbols(r'y_{H^+}, y_{H_{3}B}, y_{H_{2}B^-}, y_{HB^{2-}}, y_{B^{3-}}',\n",
    "                                   positive=True, real=True)\n",
    "I, pH, C_t, C_sup = symbols(r'I, pH, C_{total}, C_{sup}',\n",
    "                    positive=True, real=True)"
   ]
  },
  {
   "cell_type": "code",
   "execution_count": 79,
   "id": "52dde65e-459a-498c-9b87-970a7d2babef",
   "metadata": {
    "jupyter": {
     "source_hidden": true
    }
   },
   "outputs": [],
   "source": [
    "class AcidBaseEquilibrium:\n",
    "    def __init__(self, C_tot, pH0, pK_values, I_add = 0):\n",
    "        self.C_tot = C_tot\n",
    "        self.pH0 = pH0\n",
    "        self.pK_values = pK_values\n",
    "        self.I_add = I_add\n",
    "        self.num_pK = len(pK_values)\n",
    "        self.y_H_expr = 10**(-0.5115*1*((sqrt(I) / (1+sqrt(I))) - 0.3*I))\n",
    "        self.y_H3B_expr = 10**(-0.5115*0*((sqrt(I) / (1+sqrt(I))) - 0.3*I))\n",
    "        self.y_H2B_expr = 10**(-0.5115*1*((sqrt(I) / (1+sqrt(I))) - 0.3*I))\n",
    "        self.y_HB_expr = 10**(-0.5115*4*((sqrt(I) / (1+sqrt(I))) - 0.3*I))\n",
    "        self.y_B_expr = 10**(-0.5115*9*((sqrt(I) / (1+sqrt(I))) - 0.3*I))\n",
    "        \n",
    "        #self.K_1_expr = (H * H2B / H3B) * (y_H * y_H2B / y_H3B)\n",
    "        #self.K_2_expr = (H * HB / H2B) * (y_H * y_HB / y_H2B)\n",
    "        #self.K_3_expr = (H * B / HB) * (y_H * y_B / y_HB)\n",
    "        self.real_params = {C_t: C_tot,\n",
    "                            pH: pH0}\n",
    "        \n",
    "        if self.num_pK == 1:\n",
    "            self.init_monoacid()\n",
    "        elif self.num_pK == 2:\n",
    "            self.init_diacid()\n",
    "        elif self.num_pK == 3:\n",
    "            self.init_triacid()\n",
    "        else:\n",
    "            raise ValueError(\"Supported only from 1 to 3 pKa values\")\n",
    "            \n",
    "    def init_monoacid(self):\n",
    "        global H2B, H3B, y_H2B, y_H3B\n",
    "        H2B, H3B = symbols(r'[B^{-}], [HB]', positive=True, real=True)\n",
    "        y_H2B, y_H3B = symbols(r'y_{B^{-}}, y_{HB}', positive=True, real=True)\n",
    "        display(Latex(r\"Expression for the ionic force according to $I=\\frac{1}{2} \\sum_{i}{c_i z_i^2}$ is:\"))\n",
    "        I_expr = 0.5*(H3B*0 + H2B*1 + (0*H3B + H2B)*1) + self.I_add\n",
    "        display(Eq(I, I_expr))\n",
    "        display(Latex(r\"The Davies activity coefficients for the species according to $\\log \\gamma_i=-A z_i^2\\left(\\frac{\\sqrt{I}}{1+\\sqrt{I}}-0.3 I\\right)$ are:\"))\n",
    "        display(Eq(y_H, self.y_H_expr))\n",
    "        display(Eq(y_H3B, self.y_H3B_expr))\n",
    "        display(Eq(y_H2B, self.y_H2B_expr))\n",
    "        K_1_expr = (H * H2B / H3B) * (y_H * y_H2B / y_H3B)\n",
    "        Eq1 = Eq(K_1, K_1_expr)\n",
    "        print(\"We will solve the following system of equations:\")\n",
    "        display(Eq(H2B+H3B, C_t), Eq1)\n",
    "        init_subs = {y_H3B: self.y_H3B_expr,\n",
    "                     y_H2B: self.y_H2B_expr,\n",
    "                     H: 10**(-pH)/y_H,\n",
    "                     y_H: self.y_H_expr}\n",
    "        \n",
    "        Eq1_complete = Eq1.subs(init_subs)\n",
    "        self.real_params.update({K_1: 10**(-self.pK_values[0])})\n",
    "        self.dummy_system =[eq.subs(self.real_params).subs(I, 0) for eq in [Eq(H2B+H3B, C_t), Eq1_complete]]\n",
    "        self.system =[eq.subs(self.real_params).subs(I, I_expr) for eq in [Eq(H2B+H3B, C_t), Eq1_complete]]\n",
    "        #display(self.system)\n",
    "        \n",
    "    def init_diacid(self):\n",
    "        global HB, H2B, H3B, y_HB, y_H2B, y_H3B\n",
    "        HB, H2B, H3B = symbols(r'[B^{2-}], [HB^{-}], [H_{2}B]', positive=True, real=True)\n",
    "        y_HB, y_H2B, y_H3B = symbols(r'y_{B^{2-}}, y_{HB^{-}}, y_{H_{2}B}', positive=True, real=True)\n",
    "        display(Latex(r\"Expression for the ionic force according to $I=\\frac{1}{2} \\sum_{i}{c_i z_i^2}$ is:\"))\n",
    "        I_expr = 0.5*(H3B*0 + H2B*1 + HB*4 + (0*H3B + H2B + 2*HB)*1) + self.I_add\n",
    "        display(Eq(I, I_expr))\n",
    "        display(Latex(r\"The Davies activity coefficients for the species according to $\\log \\gamma_i=-A z_i^2\\left(\\frac{\\sqrt{I}}{1+\\sqrt{I}}-0.3 I\\right)$ are:\"))\n",
    "        display(Eq(y_H, self.y_H_expr))\n",
    "        display(Eq(y_H3B, self.y_H3B_expr))\n",
    "        display(Eq(y_H2B, self.y_H2B_expr))\n",
    "        display(Eq(y_HB, self.y_HB_expr))\n",
    "        K_1_expr = (H * H2B / H3B) * (y_H * y_H2B / y_H3B)\n",
    "        K_2_expr = (H * HB / H2B) * (y_H * y_HB / y_H2B)\n",
    "        Eq1 = Eq(K_1, K_1_expr)\n",
    "        Eq2 = Eq(K_2, K_2_expr)\n",
    "        print(\"We will solve the following system of equations:\")\n",
    "        display(Eq(H2B+H3B+HB, C_t), Eq1, Eq2)\n",
    "        init_subs = {y_H3B: self.y_H3B_expr,\n",
    "                     y_H2B: self.y_H2B_expr,\n",
    "                     y_HB: self.y_HB_expr,\n",
    "                     H: 10**(-pH)/y_H,\n",
    "                     y_H: self.y_H_expr}\n",
    "        Eq1_complete = Eq1.subs(init_subs)\n",
    "        Eq2_complete = Eq2.subs(init_subs)\n",
    "        self.real_params.update({K_1: 10**(-self.pK_values[0]),\n",
    "                                K_2: 10**(-self.pK_values[1])})\n",
    "        self.dummy_system =[eq.subs(self.real_params).subs(I, 0) for eq in [Eq(H2B+H3B+HB, C_t), Eq1_complete, Eq2_complete]]\n",
    "        self.system =[eq.subs(self.real_params).subs(I, I_expr) for eq in [Eq(H2B+H3B+HB, C_t), Eq1_complete, Eq2_complete]]\n",
    "        #display(self.system)\n",
    "\n",
    "    def init_triacid(self):\n",
    "        global B, HB, H2B, H3B, y_B, y_HB, y_H2B, y_H3B\n",
    "        B, HB, H2B, H3B = symbols(r'[B^{3-}], [HB^{2-}], [H_{2}B^{-}], [H_{3}B]', positive=True, real=True)\n",
    "        y_B, y_HB, y_H2B, y_H3B = symbols(r'y_{B^{3-}}, y_{HB^{2-}}, y_{H_{2}B^{-}}, y_{H_{3}B}', positive=True, real=True)\n",
    "        display(Latex(r\"Expression for the ionic force according to $I=\\frac{1}{2} \\sum_{i}{c_i z_i^2}$ is:\"))\n",
    "        I_expr = 0.5*(H3B*0 + H2B*1 + HB*4 + B*9 + (0*H3B + H2B + 2*HB + 3*B)*1) + self.I_add\n",
    "        display(Eq(I, I_expr))\n",
    "        display(Latex(r\"The Davies activity coefficients for the species according to $\\log \\gamma_i=-A z_i^2\\left(\\frac{\\sqrt{I}}{1+\\sqrt{I}}-0.3 I\\right)$ are:\"))\n",
    "        display(Eq(y_H, self.y_H_expr))\n",
    "        display(Eq(y_H3B, self.y_H3B_expr))\n",
    "        display(Eq(y_H2B, self.y_H2B_expr))\n",
    "        display(Eq(y_HB, self.y_HB_expr))\n",
    "        display(Eq(y_B, self.y_B_expr))\n",
    "        K_1_expr = (H * H2B / H3B) * (y_H * y_H2B / y_H3B)\n",
    "        K_2_expr = (H * HB / H2B) * (y_H * y_HB / y_H2B)\n",
    "        K_3_expr = (H * B / HB) * (y_H * y_B / y_HB)\n",
    "        Eq1 = Eq(K_1, K_1_expr)\n",
    "        Eq2 = Eq(K_2, K_2_expr)\n",
    "        Eq3 = Eq(K_3, K_3_expr)\n",
    "        print(\"We will solve the following system of equations:\")\n",
    "        display(Eq(H2B+H3B+HB+B, C_t), Eq1, Eq2, Eq3)\n",
    "        init_subs = {y_H3B: self.y_H3B_expr,\n",
    "                     y_H2B: self.y_H2B_expr,\n",
    "                     y_HB: self.y_HB_expr,\n",
    "                     y_B: self.y_B_expr,\n",
    "                     H: 10**(-pH)/y_H,\n",
    "                     y_H: self.y_H_expr}\n",
    "        Eq1_complete = Eq1.subs(init_subs)\n",
    "        Eq2_complete = Eq2.subs(init_subs)\n",
    "        Eq3_complete = Eq3.subs(init_subs)\n",
    "        self.real_params.update({K_1: 10**(-self.pK_values[0]),\n",
    "                                K_2: 10**(-self.pK_values[1]),\n",
    "                                K_3: 10**(-self.pK_values[2])})\n",
    "        self.dummy_system =[eq.subs(self.real_params).subs(I, 0) for eq in [Eq(H2B+H3B+HB+B, C_t), Eq1_complete, Eq2_complete, Eq3_complete]]\n",
    "        self.system =[eq.subs(self.real_params).subs(I, I_expr) for eq in [Eq(H2B+H3B+HB+B, C_t), Eq1_complete, Eq2_complete, Eq3_complete]]\n",
    "        #display(self.system)\n",
    "        \n",
    "    def solve_dummy(self):\n",
    "        if not hasattr(self, 'dummy_solution'):\n",
    "            self.dummy_solution = solve(self.dummy_system, dict=True)[0]\n",
    "        #display(self.dummy_solution)\n",
    "        \n",
    "    def solve(self):\n",
    "        self.solve_dummy()\n",
    "        if self.num_pK == 1:\n",
    "            solution = nsolve(self.system, (H3B, H2B), (self.dummy_solution[H3B], self.dummy_solution[H2B]), dict=True, prec=20)[0]\n",
    "        elif self.num_pK == 2:\n",
    "            solution = nsolve(self.system, (H3B, H2B, HB), (self.dummy_solution[H3B], self.dummy_solution[H2B], self.dummy_solution[HB]), dict=True, prec=20)[0]\n",
    "        elif self.num_pK == 3:\n",
    "            solution = nsolve(self.system, (H3B, H2B, HB, B), (self.dummy_solution[H3B], self.dummy_solution[H2B], self.dummy_solution[HB], self.dummy_solution[B]), dict=True, prec=20)[0]\n",
    "        for k,v in solution.items():\n",
    "            display(Latex(fr\"The concentration of ${latex(k)}$ is: {v} M\"))"
   ]
  },
  {
   "cell_type": "code",
   "execution_count": 84,
   "id": "8b7a1f84-50ce-4c0d-a5ef-62b9d3d18d49",
   "metadata": {},
   "outputs": [
    {
     "data": {
      "text/latex": [
       "Expression for the ionic force according to $I=\\frac{1}{2} \\sum_{i}{c_i z_i^2}$ is:"
      ],
      "text/plain": [
       "<IPython.core.display.Latex object>"
      ]
     },
     "metadata": {},
     "output_type": "display_data"
    },
    {
     "data": {
      "text/latex": [
       "$\\displaystyle I = 6.0 [B^{3-}] + 3.0 [HB^{2-}] + 1.0 [H_{2}B^{-}]$"
      ],
      "text/plain": [
       "Eq(I, 6.0*[B^{3-}] + 3.0*[HB^{2-}] + 1.0*[H_{2}B^{-}])"
      ]
     },
     "metadata": {},
     "output_type": "display_data"
    },
    {
     "data": {
      "text/latex": [
       "The Davies activity coefficients for the species according to $\\log \\gamma_i=-A z_i^2\\left(\\frac{\\sqrt{I}}{1+\\sqrt{I}}-0.3 I\\right)$ are:"
      ],
      "text/plain": [
       "<IPython.core.display.Latex object>"
      ]
     },
     "metadata": {},
     "output_type": "display_data"
    },
    {
     "data": {
      "text/latex": [
       "$\\displaystyle y_{H^+} = 10^{- \\frac{0.5115 \\sqrt{I}}{\\sqrt{I} + 1} + 0.15345 I}$"
      ],
      "text/plain": [
       "Eq(y_{H^+}, 10**(-0.5115*sqrt(I)/(sqrt(I) + 1) + 0.15345*I))"
      ]
     },
     "metadata": {},
     "output_type": "display_data"
    },
    {
     "data": {
      "text/latex": [
       "$\\displaystyle y_{H_{3}B} = 1$"
      ],
      "text/plain": [
       "Eq(y_{H_{3}B}, 1)"
      ]
     },
     "metadata": {},
     "output_type": "display_data"
    },
    {
     "data": {
      "text/latex": [
       "$\\displaystyle y_{H_{2}B^{-}} = 10^{- \\frac{0.5115 \\sqrt{I}}{\\sqrt{I} + 1} + 0.15345 I}$"
      ],
      "text/plain": [
       "Eq(y_{H_{2}B^{-}}, 10**(-0.5115*sqrt(I)/(sqrt(I) + 1) + 0.15345*I))"
      ]
     },
     "metadata": {},
     "output_type": "display_data"
    },
    {
     "data": {
      "text/latex": [
       "$\\displaystyle y_{HB^{2-}} = 10^{- \\frac{2.046 \\sqrt{I}}{\\sqrt{I} + 1} + 0.6138 I}$"
      ],
      "text/plain": [
       "Eq(y_{HB^{2-}}, 10**(-2.046*sqrt(I)/(sqrt(I) + 1) + 0.6138*I))"
      ]
     },
     "metadata": {},
     "output_type": "display_data"
    },
    {
     "data": {
      "text/latex": [
       "$\\displaystyle y_{B^{3-}} = 10^{- \\frac{4.6035 \\sqrt{I}}{\\sqrt{I} + 1} + 1.38105 I}$"
      ],
      "text/plain": [
       "Eq(y_{B^{3-}}, 10**(-4.6035*sqrt(I)/(sqrt(I) + 1) + 1.38105*I))"
      ]
     },
     "metadata": {},
     "output_type": "display_data"
    },
    {
     "name": "stdout",
     "output_type": "stream",
     "text": [
      "We will solve the following system of equations:\n"
     ]
    },
    {
     "data": {
      "text/latex": [
       "$\\displaystyle [B^{3-}] + [HB^{2-}] + [H_{2}B^{-}] + [H_{3}B] = C_{total}$"
      ],
      "text/plain": [
       "Eq([B^{3-}] + [HB^{2-}] + [H_{2}B^{-}] + [H_{3}B], C_{total})"
      ]
     },
     "metadata": {},
     "output_type": "display_data"
    },
    {
     "data": {
      "text/latex": [
       "$\\displaystyle K_{1} = \\frac{[H^{+}] [H_{2}B^{-}] y_{H^+} y_{H_{2}B^{-}}}{[H_{3}B] y_{H_{3}B}}$"
      ],
      "text/plain": [
       "Eq(K_1, [H^{+}]*[H_{2}B^{-}]*y_{H^+}*y_{H_{2}B^{-}}/([H_{3}B]*y_{H_{3}B}))"
      ]
     },
     "metadata": {},
     "output_type": "display_data"
    },
    {
     "data": {
      "text/latex": [
       "$\\displaystyle K_{2} = \\frac{[HB^{2-}] [H^{+}] y_{HB^{2-}} y_{H^+}}{[H_{2}B^{-}] y_{H_{2}B^{-}}}$"
      ],
      "text/plain": [
       "Eq(K_2, [HB^{2-}]*[H^{+}]*y_{HB^{2-}}*y_{H^+}/([H_{2}B^{-}]*y_{H_{2}B^{-}}))"
      ]
     },
     "metadata": {},
     "output_type": "display_data"
    },
    {
     "data": {
      "text/latex": [
       "$\\displaystyle K_{3} = \\frac{[B^{3-}] [H^{+}] y_{B^{3-}} y_{H^+}}{[HB^{2-}] y_{HB^{2-}}}$"
      ],
      "text/plain": [
       "Eq(K_3, [B^{3-}]*[H^{+}]*y_{B^{3-}}*y_{H^+}/([HB^{2-}]*y_{HB^{2-}}))"
      ]
     },
     "metadata": {},
     "output_type": "display_data"
    }
   ],
   "source": [
    "# defining the buffer system\n",
    "buffer = AcidBaseEquilibrium(C_tot = 0.1,                # Total buffer concentration in M\n",
    "                             pH0 = 5.5,                  # Initial pH \n",
    "                             pK_values = [3,5,6],      # List of 1-3 pKa in the increasing order\n",
    "                             I_add = 0)                  # Additional ionic strength from supporting electrolyte, if present"
   ]
  },
  {
   "cell_type": "code",
   "execution_count": 85,
   "id": "60d1edc7-ea9b-45ce-8aec-3b8c90cd5c47",
   "metadata": {},
   "outputs": [
    {
     "data": {
      "text/latex": [
       "The concentration of $[H_{3}B]$ is: 0.000010822675105117065937 M"
      ],
      "text/plain": [
       "<IPython.core.display.Latex object>"
      ]
     },
     "metadata": {},
     "output_type": "display_data"
    },
    {
     "data": {
      "text/latex": [
       "The concentration of $[H_{2}B^{-}]$ is: 0.0046817295966727432175 M"
      ],
      "text/plain": [
       "<IPython.core.display.Latex object>"
      ]
     },
     "metadata": {},
     "output_type": "display_data"
    },
    {
     "data": {
      "text/latex": [
       "The concentration of $[HB^{2-}]$ is: 0.037898449484978352405 M"
      ],
      "text/plain": [
       "<IPython.core.display.Latex object>"
      ]
     },
     "metadata": {},
     "output_type": "display_data"
    },
    {
     "data": {
      "text/latex": [
       "The concentration of $[B^{3-}]$ is: 0.057408998243243792862 M"
      ],
      "text/plain": [
       "<IPython.core.display.Latex object>"
      ]
     },
     "metadata": {},
     "output_type": "display_data"
    }
   ],
   "source": [
    "# Calculating the initial concentrations:\n",
    "buffer.solve()"
   ]
  },
  {
   "cell_type": "code",
   "execution_count": null,
   "id": "4f0f3e4f-e30a-459f-9617-54563df84253",
   "metadata": {},
   "outputs": [],
   "source": []
  }
 ],
 "metadata": {
  "kernelspec": {
   "display_name": "Python (sympy)",
   "language": "python",
   "name": "sympy_env"
  },
  "language_info": {
   "codemirror_mode": {
    "name": "ipython",
    "version": 3
   },
   "file_extension": ".py",
   "mimetype": "text/x-python",
   "name": "python",
   "nbconvert_exporter": "python",
   "pygments_lexer": "ipython3",
   "version": "3.10.4"
  }
 },
 "nbformat": 4,
 "nbformat_minor": 5
}

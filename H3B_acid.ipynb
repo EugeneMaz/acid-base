{
 "cells": [
  {
   "cell_type": "code",
   "execution_count": 2,
   "id": "53fa12fc-369a-457b-aa74-58d3df3bf36e",
   "metadata": {},
   "outputs": [],
   "source": [
    "from sympy import *\n",
    "import numpy as np"
   ]
  },
  {
   "cell_type": "code",
   "execution_count": 3,
   "id": "93586e58-24fc-4f41-83db-67d156761de7",
   "metadata": {},
   "outputs": [],
   "source": [
    "H, B, HB, H2B, H3B = symbols(r'[H^{+}], [B^{3-}], [HB^{2-}], [H_{2}B^-], [H_{3}B]',\n",
    "                                           positive=True, real=True)\n",
    "K_1, K_2, K_3, K_1_pr, K_2_pr, K_3_pr = symbols(r'K_1, K_2, K_3, K_1^{\\prime}, K_2^{\\prime}, K_3^{\\prime}',\n",
    "                                           positive=True, real=True)\n",
    "kf_1, kb_1, kf_2, kb_2 = symbols(r'k_f^1, k_b^1, k_f^2, k_b^2',\n",
    "                                 positive=True, real=True)\n",
    "y_H, y_H3B, y_H2B, y_HB, y_B = symbols(r'y_{H^+}, y_{H_{3}B}, y_{H_{2}B^-}, y_{HB^{2-}}, y_{B^{3-}}',\n",
    "                                   positive=True, real=True)\n",
    "I, pH, C_t, C_sup = symbols(r'I, pH, C_{total}, C_{sup}',\n",
    "                    positive=True, real=True)"
   ]
  },
  {
   "cell_type": "markdown",
   "id": "241931d7-338c-45c1-a87a-99787cd68e56",
   "metadata": {},
   "source": [
    "$$\\require{mhchem}$$\n",
    "$$ \\ce{H3B <->[K_1] H+ + H2B-}$$\n",
    "$$ \\ce{H2B- <->[K_2] H+ + HB^2-}$$\n",
    "$$ \\ce{HB^2- <->[K_3] H+ + B^3-}$$"
   ]
  },
  {
   "cell_type": "code",
   "execution_count": 4,
   "id": "52dde65e-459a-498c-9b87-970a7d2babef",
   "metadata": {},
   "outputs": [
    {
     "data": {
      "text/latex": [
       "$\\displaystyle [B^{3-}] + [HB^{2-}] + [H_{2}B^-] + [H_{3}B] = C_{total}$"
      ],
      "text/plain": [
       "Eq([B^{3-}] + [HB^{2-}] + [H_{2}B^-] + [H_{3}B], C_{total})"
      ]
     },
     "metadata": {},
     "output_type": "display_data"
    }
   ],
   "source": [
    "Eq1 = Eq(B+HB+H2B+H3B, C_t)\n",
    "display(Eq1)"
   ]
  },
  {
   "cell_type": "code",
   "execution_count": 5,
   "id": "72b85837-177c-4741-9ab8-30625791bb29",
   "metadata": {},
   "outputs": [],
   "source": [
    "K_1_pr_expr = H * H2B / H3B\n",
    "K_2_pr_expr = H * HB / H2B\n",
    "K_3_pr_expr = H * B / HB\n",
    "K_1_expr = (H * H2B / H3B) * (y_H * y_H2B / y_H3B)\n",
    "K_2_expr = (H * HB / H2B) * (y_H * y_HB / y_H2B)\n",
    "K_3_expr = (H * B / HB) * (y_H * y_B / y_HB)"
   ]
  },
  {
   "cell_type": "code",
   "execution_count": 6,
   "id": "704df174-bd45-4b13-9ece-a48aab2ec590",
   "metadata": {},
   "outputs": [
    {
     "data": {
      "text/latex": [
       "$\\displaystyle K_{1} = \\frac{[H^{+}] [H_{2}B^-] y_{H^+} y_{H_{2}B^-}}{[H_{3}B] y_{H_{3}B}}$"
      ],
      "text/plain": [
       "Eq(K_1, [H^{+}]*[H_{2}B^-]*y_{H^+}*y_{H_{2}B^-}/([H_{3}B]*y_{H_{3}B}))"
      ]
     },
     "metadata": {},
     "output_type": "display_data"
    },
    {
     "data": {
      "text/latex": [
       "$\\displaystyle K_{2} = \\frac{[HB^{2-}] [H^{+}] y_{HB^{2-}} y_{H^+}}{[H_{2}B^-] y_{H_{2}B^-}}$"
      ],
      "text/plain": [
       "Eq(K_2, [HB^{2-}]*[H^{+}]*y_{HB^{2-}}*y_{H^+}/([H_{2}B^-]*y_{H_{2}B^-}))"
      ]
     },
     "metadata": {},
     "output_type": "display_data"
    },
    {
     "data": {
      "text/latex": [
       "$\\displaystyle K_{3} = \\frac{[B^{3-}] [H^{+}] y_{B^{3-}} y_{H^+}}{[HB^{2-}] y_{HB^{2-}}}$"
      ],
      "text/plain": [
       "Eq(K_3, [B^{3-}]*[H^{+}]*y_{B^{3-}}*y_{H^+}/([HB^{2-}]*y_{HB^{2-}}))"
      ]
     },
     "metadata": {},
     "output_type": "display_data"
    }
   ],
   "source": [
    "Eq2 = Eq(K_1, K_1_expr)\n",
    "Eq3 = Eq(K_2, K_2_expr)\n",
    "Eq4 = Eq(K_3, K_3_expr)\n",
    "display(Eq2,Eq3,Eq4)"
   ]
  },
  {
   "cell_type": "code",
   "execution_count": 7,
   "id": "39dc6024-17d1-41b0-b178-79cb01b2490b",
   "metadata": {},
   "outputs": [
    {
     "data": {
      "text/latex": [
       "$\\displaystyle K_1^{\\prime} = \\frac{[H^{+}] [H_{2}B^-]}{[H_{3}B]}$"
      ],
      "text/plain": [
       "Eq(K_1^{\\prime}, [H^{+}]*[H_{2}B^-]/[H_{3}B])"
      ]
     },
     "metadata": {},
     "output_type": "display_data"
    },
    {
     "data": {
      "text/latex": [
       "$\\displaystyle K_2^{\\prime} = \\frac{[HB^{2-}] [H^{+}]}{[H_{2}B^-]}$"
      ],
      "text/plain": [
       "Eq(K_2^{\\prime}, [HB^{2-}]*[H^{+}]/[H_{2}B^-])"
      ]
     },
     "metadata": {},
     "output_type": "display_data"
    },
    {
     "data": {
      "text/latex": [
       "$\\displaystyle K_3^{\\prime} = \\frac{[B^{3-}] [H^{+}]}{[HB^{2-}]}$"
      ],
      "text/plain": [
       "Eq(K_3^{\\prime}, [B^{3-}]*[H^{+}]/[HB^{2-}])"
      ]
     },
     "metadata": {},
     "output_type": "display_data"
    }
   ],
   "source": [
    "Eq5 = Eq(K_1_pr, K_1_pr_expr)\n",
    "Eq6 = Eq(K_2_pr, K_2_pr_expr)\n",
    "Eq7 = Eq(K_3_pr, K_3_pr_expr)\n",
    "display(Eq5,Eq6,Eq7)"
   ]
  },
  {
   "cell_type": "markdown",
   "id": "8b79bdeb-2470-408b-bd77-7a4b0796fde8",
   "metadata": {
    "tags": []
   },
   "source": [
    "## Solving for simple system with known formal constants"
   ]
  },
  {
   "cell_type": "code",
   "execution_count": 7,
   "id": "6e8ff90e-28cf-4b1e-83ba-f0a99f847dd2",
   "metadata": {},
   "outputs": [
    {
     "data": {
      "text/latex": [
       "$\\displaystyle [H_{3}B] = \\frac{C_{total} \\left([H^{+}]\\right)^{3}}{K_1^{\\prime} K_2^{\\prime} K_3^{\\prime} + K_1^{\\prime} K_2^{\\prime} [H^{+}] + K_1^{\\prime} \\left([H^{+}]\\right)^{2} + \\left([H^{+}]\\right)^{3}}$"
      ],
      "text/plain": [
       "Eq([H_{3}B], C_{total}*[H^{+}]**3/(K_1^{\\prime}*K_2^{\\prime}*K_3^{\\prime} + K_1^{\\prime}*K_2^{\\prime}*[H^{+}] + K_1^{\\prime}*[H^{+}]**2 + [H^{+}]**3))"
      ]
     },
     "metadata": {},
     "output_type": "display_data"
    },
    {
     "data": {
      "text/latex": [
       "$\\displaystyle [H_{2}B^-] = \\frac{C_{total} K_1^{\\prime} \\left([H^{+}]\\right)^{2}}{K_1^{\\prime} K_2^{\\prime} K_3^{\\prime} + K_1^{\\prime} K_2^{\\prime} [H^{+}] + K_1^{\\prime} \\left([H^{+}]\\right)^{2} + \\left([H^{+}]\\right)^{3}}$"
      ],
      "text/plain": [
       "Eq([H_{2}B^-], C_{total}*K_1^{\\prime}*[H^{+}]**2/(K_1^{\\prime}*K_2^{\\prime}*K_3^{\\prime} + K_1^{\\prime}*K_2^{\\prime}*[H^{+}] + K_1^{\\prime}*[H^{+}]**2 + [H^{+}]**3))"
      ]
     },
     "metadata": {},
     "output_type": "display_data"
    },
    {
     "data": {
      "text/latex": [
       "$\\displaystyle [HB^{2-}] = \\frac{C_{total} K_1^{\\prime} K_2^{\\prime} [H^{+}]}{K_1^{\\prime} K_2^{\\prime} K_3^{\\prime} + K_1^{\\prime} K_2^{\\prime} [H^{+}] + K_1^{\\prime} \\left([H^{+}]\\right)^{2} + \\left([H^{+}]\\right)^{3}}$"
      ],
      "text/plain": [
       "Eq([HB^{2-}], C_{total}*K_1^{\\prime}*K_2^{\\prime}*[H^{+}]/(K_1^{\\prime}*K_2^{\\prime}*K_3^{\\prime} + K_1^{\\prime}*K_2^{\\prime}*[H^{+}] + K_1^{\\prime}*[H^{+}]**2 + [H^{+}]**3))"
      ]
     },
     "metadata": {},
     "output_type": "display_data"
    },
    {
     "data": {
      "text/latex": [
       "$\\displaystyle [B^{3-}] = \\frac{C_{total} K_1^{\\prime} K_2^{\\prime} K_3^{\\prime}}{K_1^{\\prime} K_2^{\\prime} K_3^{\\prime} + K_1^{\\prime} K_2^{\\prime} [H^{+}] + K_1^{\\prime} \\left([H^{+}]\\right)^{2} + \\left([H^{+}]\\right)^{3}}$"
      ],
      "text/plain": [
       "Eq([B^{3-}], C_{total}*K_1^{\\prime}*K_2^{\\prime}*K_3^{\\prime}/(K_1^{\\prime}*K_2^{\\prime}*K_3^{\\prime} + K_1^{\\prime}*K_2^{\\prime}*[H^{+}] + K_1^{\\prime}*[H^{+}]**2 + [H^{+}]**3))"
      ]
     },
     "metadata": {},
     "output_type": "display_data"
    }
   ],
   "source": [
    "solution1 = solve([Eq1, Eq5, Eq6, Eq7], H3B, H2B, HB, B, dict=True)\n",
    "for x in (H3B, H2B, HB, B):\n",
    "    display(Eq(x, solution1[0][x]))"
   ]
  },
  {
   "cell_type": "markdown",
   "id": "70205017-9b3e-45a3-85f8-264ca31e598b",
   "metadata": {},
   "source": [
    "## Introducing ionic force and solving numerically"
   ]
  },
  {
   "cell_type": "markdown",
   "id": "dd6fbaaf-18f1-4a00-8a3a-3e74298280e2",
   "metadata": {},
   "source": [
    "#### Defining ionic force and Davies activity coefficients for citric acid"
   ]
  },
  {
   "cell_type": "markdown",
   "id": "7837f632-670d-4464-ac09-816c5b207472",
   "metadata": {},
   "source": [
    "$$I=\\frac{1}{2} \\sum_{i}{c_i z_i^2}$$"
   ]
  },
  {
   "cell_type": "code",
   "execution_count": 8,
   "id": "b5b9fdc6-9657-4308-b20d-446c768cac88",
   "metadata": {},
   "outputs": [
    {
     "data": {
      "text/latex": [
       "$\\displaystyle I = 6.0 [B^{3-}] + 3.0 [HB^{2-}] + 1.0 [H_{2}B^-]$"
      ],
      "text/plain": [
       "Eq(I, 6.0*[B^{3-}] + 3.0*[HB^{2-}] + 1.0*[H_{2}B^-])"
      ]
     },
     "metadata": {},
     "output_type": "display_data"
    }
   ],
   "source": [
    "I_expr = 0.5*(H3B*0 + H2B*1 + HB*4 + B*9 + (0*H3B + H2B + 2*HB + 3*B)*1) \n",
    "display(Eq(I, I_expr))"
   ]
  },
  {
   "cell_type": "markdown",
   "id": "ee743e63-9a84-4185-8241-b4e0aa4c227c",
   "metadata": {},
   "source": [
    "##### Davies equation:\n",
    "$$\\log \\gamma_i=-A z_i^2\\left(\\frac{\\sqrt{I}}{1+\\sqrt{I}}-0.3 I\\right)$$"
   ]
  },
  {
   "cell_type": "code",
   "execution_count": 9,
   "id": "be4ce5da-157a-4c77-a31e-b647bd5b6704",
   "metadata": {},
   "outputs": [
    {
     "data": {
      "text/latex": [
       "$\\displaystyle y_{H^+} = 10^{- \\frac{0.5115 \\sqrt{I}}{\\sqrt{I} + 1} + 0.15345 I}$"
      ],
      "text/plain": [
       "Eq(y_{H^+}, 10**(-0.5115*sqrt(I)/(sqrt(I) + 1) + 0.15345*I))"
      ]
     },
     "metadata": {},
     "output_type": "display_data"
    },
    {
     "data": {
      "text/latex": [
       "$\\displaystyle y_{H_{3}B} = 1$"
      ],
      "text/plain": [
       "Eq(y_{H_{3}B}, 1)"
      ]
     },
     "metadata": {},
     "output_type": "display_data"
    },
    {
     "data": {
      "text/latex": [
       "$\\displaystyle y_{H_{2}B^-} = 10^{- \\frac{0.5115 \\sqrt{I}}{\\sqrt{I} + 1} + 0.15345 I}$"
      ],
      "text/plain": [
       "Eq(y_{H_{2}B^-}, 10**(-0.5115*sqrt(I)/(sqrt(I) + 1) + 0.15345*I))"
      ]
     },
     "metadata": {},
     "output_type": "display_data"
    },
    {
     "data": {
      "text/latex": [
       "$\\displaystyle y_{HB^{2-}} = 10^{- \\frac{2.046 \\sqrt{I}}{\\sqrt{I} + 1} + 0.6138 I}$"
      ],
      "text/plain": [
       "Eq(y_{HB^{2-}}, 10**(-2.046*sqrt(I)/(sqrt(I) + 1) + 0.6138*I))"
      ]
     },
     "metadata": {},
     "output_type": "display_data"
    },
    {
     "data": {
      "text/latex": [
       "$\\displaystyle y_{B^{3-}} = 10^{- \\frac{4.6035 \\sqrt{I}}{\\sqrt{I} + 1} + 1.38105 I}$"
      ],
      "text/plain": [
       "Eq(y_{B^{3-}}, 10**(-4.6035*sqrt(I)/(sqrt(I) + 1) + 1.38105*I))"
      ]
     },
     "metadata": {},
     "output_type": "display_data"
    }
   ],
   "source": [
    "y_H_expr = 10**(-0.5115*1*((sqrt(I) / (1+sqrt(I))) - 0.3*I))\n",
    "y_H3B_expr = 10**(-0.5115*0*((sqrt(I) / (1+sqrt(I))) - 0.3*I))\n",
    "y_H2B_expr = 10**(-0.5115*1*((sqrt(I) / (1+sqrt(I))) - 0.3*I))\n",
    "y_HB_expr = 10**(-0.5115*4*((sqrt(I) / (1+sqrt(I))) - 0.3*I))\n",
    "y_B_expr = 10**(-0.5115*9*((sqrt(I) / (1+sqrt(I))) - 0.3*I))\n",
    "display(Eq(y_H, y_H_expr))\n",
    "display(Eq(y_H3B, y_H3B_expr))\n",
    "display(Eq(y_H2B, y_H2B_expr))\n",
    "display(Eq(y_HB, y_HB_expr))\n",
    "display(Eq(y_B, y_B_expr))"
   ]
  },
  {
   "cell_type": "markdown",
   "id": "b2971b30-a2a7-449b-a41b-7c3c35e91b61",
   "metadata": {},
   "source": [
    "#### Main equations to be solved"
   ]
  },
  {
   "cell_type": "code",
   "execution_count": 10,
   "id": "c9513c98-386b-4440-8ef7-11815dbd1a4e",
   "metadata": {},
   "outputs": [
    {
     "data": {
      "text/latex": [
       "$\\displaystyle K_{1} = \\frac{[H^{+}] [H_{2}B^-] y_{H^+} y_{H_{2}B^-}}{[H_{3}B] y_{H_{3}B}}$"
      ],
      "text/plain": [
       "Eq(K_1, [H^{+}]*[H_{2}B^-]*y_{H^+}*y_{H_{2}B^-}/([H_{3}B]*y_{H_{3}B}))"
      ]
     },
     "metadata": {},
     "output_type": "display_data"
    },
    {
     "data": {
      "text/latex": [
       "$\\displaystyle K_{2} = \\frac{[HB^{2-}] [H^{+}] y_{HB^{2-}} y_{H^+}}{[H_{2}B^-] y_{H_{2}B^-}}$"
      ],
      "text/plain": [
       "Eq(K_2, [HB^{2-}]*[H^{+}]*y_{HB^{2-}}*y_{H^+}/([H_{2}B^-]*y_{H_{2}B^-}))"
      ]
     },
     "metadata": {},
     "output_type": "display_data"
    },
    {
     "data": {
      "text/latex": [
       "$\\displaystyle K_{3} = \\frac{[B^{3-}] [H^{+}] y_{B^{3-}} y_{H^+}}{[HB^{2-}] y_{HB^{2-}}}$"
      ],
      "text/plain": [
       "Eq(K_3, [B^{3-}]*[H^{+}]*y_{B^{3-}}*y_{H^+}/([HB^{2-}]*y_{HB^{2-}}))"
      ]
     },
     "metadata": {},
     "output_type": "display_data"
    }
   ],
   "source": [
    "K_1_eq = Eq(K_1, K_1_expr)\n",
    "K_2_eq = Eq(K_2, K_2_expr)\n",
    "K_3_eq = Eq(K_3, K_3_expr)\n",
    "display(K_1_eq, K_2_eq, K_3_eq)"
   ]
  },
  {
   "cell_type": "code",
   "execution_count": 11,
   "id": "42e37369-c39a-4467-9e23-68d15f5f1958",
   "metadata": {},
   "outputs": [
    {
     "data": {
      "text/latex": [
       "$\\displaystyle K_{1} = \\frac{10^{- pH} 10^{- \\frac{0.5115 \\sqrt{I}}{\\sqrt{I} + 1} + 0.15345 I} [H_{2}B^-]}{[H_{3}B]}$"
      ],
      "text/plain": [
       "Eq(K_1, 10**(-0.5115*sqrt(I)/(sqrt(I) + 1) + 0.15345*I)*[H_{2}B^-]/(10**pH*[H_{3}B]))"
      ]
     },
     "metadata": {},
     "output_type": "display_data"
    },
    {
     "data": {
      "text/latex": [
       "$\\displaystyle K_{2} = \\frac{10^{- pH} 10^{- \\frac{2.046 \\sqrt{I}}{\\sqrt{I} + 1} + 0.6138 I} 10^{\\frac{0.5115 \\sqrt{I}}{\\sqrt{I} + 1} - 0.15345 I} [HB^{2-}]}{[H_{2}B^-]}$"
      ],
      "text/plain": [
       "Eq(K_2, 10**(-2.046*sqrt(I)/(sqrt(I) + 1) + 0.6138*I)*10**(0.5115*sqrt(I)/(sqrt(I) + 1) - 0.15345*I)*[HB^{2-}]/(10**pH*[H_{2}B^-]))"
      ]
     },
     "metadata": {},
     "output_type": "display_data"
    },
    {
     "data": {
      "text/latex": [
       "$\\displaystyle K_{3} = \\frac{10^{- pH} 10^{- \\frac{4.6035 \\sqrt{I}}{\\sqrt{I} + 1} + 1.38105 I} 10^{\\frac{2.046 \\sqrt{I}}{\\sqrt{I} + 1} - 0.6138 I} [B^{3-}]}{[HB^{2-}]}$"
      ],
      "text/plain": [
       "Eq(K_3, 10**(-4.6035*sqrt(I)/(sqrt(I) + 1) + 1.38105*I)*10**(2.046*sqrt(I)/(sqrt(I) + 1) - 0.6138*I)*[B^{3-}]/(10**pH*[HB^{2-}]))"
      ]
     },
     "metadata": {},
     "output_type": "display_data"
    },
    {
     "data": {
      "text/latex": [
       "$\\displaystyle I = 6.0 [B^{3-}] + 3.0 [HB^{2-}] + 1.0 [H_{2}B^-]$"
      ],
      "text/plain": [
       "Eq(I, 6.0*[B^{3-}] + 3.0*[HB^{2-}] + 1.0*[H_{2}B^-])"
      ]
     },
     "metadata": {},
     "output_type": "display_data"
    },
    {
     "data": {
      "text/latex": [
       "$\\displaystyle [B^{3-}] + [HB^{2-}] + [H_{2}B^-] + [H_{3}B] = C_{total}$"
      ],
      "text/plain": [
       "Eq([B^{3-}] + [HB^{2-}] + [H_{2}B^-] + [H_{3}B], C_{total})"
      ]
     },
     "metadata": {},
     "output_type": "display_data"
    }
   ],
   "source": [
    "init_subs = {y_H3B: y_H3B_expr,\n",
    "             y_H2B: y_H2B_expr,\n",
    "             y_HB: y_HB_expr,\n",
    "             y_B: y_B_expr,\n",
    "             H: 10**(-pH)/y_H,\n",
    "             y_H: y_H_expr}\n",
    "Eq11 = K_1_eq.subs(init_subs, simultaneous=False)\n",
    "Eq12 = K_2_eq.subs(init_subs, simultaneous=False)\n",
    "Eq13 = K_3_eq.subs(init_subs, simultaneous=False)\n",
    "\n",
    "display(Eq11, Eq12, Eq13)\n",
    "Eq14 = Eq(I, I_expr)\n",
    "Eq15 = Eq(B+HB+H2B+H3B, C_t)\n",
    "display(Eq14, Eq15)"
   ]
  },
  {
   "cell_type": "code",
   "execution_count": 12,
   "id": "164ed233-f6d4-4442-92db-6e262b95f569",
   "metadata": {},
   "outputs": [
    {
     "data": {
      "text/latex": [
       "$\\displaystyle K_{1} = \\frac{10^{- pH} 10^{0.9207 [B^{3-}] + 0.46035 [HB^{2-}] + 0.15345 [H_{2}B^-] - \\frac{1.2529140034336 \\sqrt{[B^{3-}] + 0.5 [HB^{2-}] + 0.166666666666667 [H_{2}B^-]}}{2.44948974278318 \\sqrt{[B^{3-}] + 0.5 [HB^{2-}] + 0.166666666666667 [H_{2}B^-]} + 1}} [H_{2}B^-]}{[H_{3}B]}$"
      ],
      "text/plain": [
       "Eq(K_1, 10**(0.9207*[B^{3-}] + 0.46035*[HB^{2-}] + 0.15345*[H_{2}B^-] - 1.2529140034336*sqrt([B^{3-}] + 0.5*[HB^{2-}] + 0.166666666666667*[H_{2}B^-])/(2.44948974278318*sqrt([B^{3-}] + 0.5*[HB^{2-}] + 0.166666666666667*[H_{2}B^-]) + 1))*[H_{2}B^-]/(10**pH*[H_{3}B]))"
      ]
     },
     "metadata": {},
     "output_type": "display_data"
    },
    {
     "data": {
      "text/latex": [
       "$\\displaystyle K_{2} = \\frac{10^{- pH} 10^{- 0.9207 [B^{3-}] - 0.46035 [HB^{2-}] - 0.15345 [H_{2}B^-] + \\frac{1.2529140034336 \\sqrt{[B^{3-}] + 0.5 [HB^{2-}] + 0.166666666666667 [H_{2}B^-]}}{2.44948974278318 \\sqrt{[B^{3-}] + 0.5 [HB^{2-}] + 0.166666666666667 [H_{2}B^-]} + 1}} \\cdot 10^{3.6828 [B^{3-}] + 1.8414 [HB^{2-}] + 0.6138 [H_{2}B^-] - \\frac{5.01165601373438 \\sqrt{[B^{3-}] + 0.5 [HB^{2-}] + 0.166666666666667 [H_{2}B^-]}}{2.44948974278318 \\sqrt{[B^{3-}] + 0.5 [HB^{2-}] + 0.166666666666667 [H_{2}B^-]} + 1}} [HB^{2-}]}{[H_{2}B^-]}$"
      ],
      "text/plain": [
       "Eq(K_2, 10**(-0.9207*[B^{3-}] - 0.46035*[HB^{2-}] - 0.15345*[H_{2}B^-] + 1.2529140034336*sqrt([B^{3-}] + 0.5*[HB^{2-}] + 0.166666666666667*[H_{2}B^-])/(2.44948974278318*sqrt([B^{3-}] + 0.5*[HB^{2-}] + 0.166666666666667*[H_{2}B^-]) + 1))*10**(3.6828*[B^{3-}] + 1.8414*[HB^{2-}] + 0.6138*[H_{2}B^-] - 5.01165601373438*sqrt([B^{3-}] + 0.5*[HB^{2-}] + 0.166666666666667*[H_{2}B^-])/(2.44948974278318*sqrt([B^{3-}] + 0.5*[HB^{2-}] + 0.166666666666667*[H_{2}B^-]) + 1))*[HB^{2-}]/(10**pH*[H_{2}B^-]))"
      ]
     },
     "metadata": {},
     "output_type": "display_data"
    },
    {
     "data": {
      "text/latex": [
       "$\\displaystyle K_{3} = \\frac{10^{- pH} 10^{- 3.6828 [B^{3-}] - 1.8414 [HB^{2-}] - 0.6138 [H_{2}B^-] + \\frac{5.01165601373438 \\sqrt{[B^{3-}] + 0.5 [HB^{2-}] + 0.166666666666667 [H_{2}B^-]}}{2.44948974278318 \\sqrt{[B^{3-}] + 0.5 [HB^{2-}] + 0.166666666666667 [H_{2}B^-]} + 1}} \\cdot 10^{8.2863 [B^{3-}] + 4.14315 [HB^{2-}] + 1.38105 [H_{2}B^-] - \\frac{11.2762260309024 \\sqrt{[B^{3-}] + 0.5 [HB^{2-}] + 0.166666666666667 [H_{2}B^-]}}{2.44948974278318 \\sqrt{[B^{3-}] + 0.5 [HB^{2-}] + 0.166666666666667 [H_{2}B^-]} + 1}} [B^{3-}]}{[HB^{2-}]}$"
      ],
      "text/plain": [
       "Eq(K_3, 10**(-3.6828*[B^{3-}] - 1.8414*[HB^{2-}] - 0.6138*[H_{2}B^-] + 5.01165601373438*sqrt([B^{3-}] + 0.5*[HB^{2-}] + 0.166666666666667*[H_{2}B^-])/(2.44948974278318*sqrt([B^{3-}] + 0.5*[HB^{2-}] + 0.166666666666667*[H_{2}B^-]) + 1))*10**(8.2863*[B^{3-}] + 4.14315*[HB^{2-}] + 1.38105*[H_{2}B^-] - 11.2762260309024*sqrt([B^{3-}] + 0.5*[HB^{2-}] + 0.166666666666667*[H_{2}B^-])/(2.44948974278318*sqrt([B^{3-}] + 0.5*[HB^{2-}] + 0.166666666666667*[H_{2}B^-]) + 1))*[B^{3-}]/(10**pH*[HB^{2-}]))"
      ]
     },
     "metadata": {},
     "output_type": "display_data"
    }
   ],
   "source": [
    "# if we now substitute I:\n",
    "Eq16 = Eq11.subs(I, I_expr)\n",
    "Eq17 = Eq12.subs(I, I_expr)\n",
    "Eq18 = Eq13.subs(I, I_expr)\n",
    "display(Eq16, Eq17, Eq18)"
   ]
  },
  {
   "cell_type": "markdown",
   "id": "2c4916cd-f0fa-4e26-b328-bb164ab3cd2b",
   "metadata": {},
   "source": [
    "#### Giving known parameters"
   ]
  },
  {
   "cell_type": "code",
   "execution_count": 27,
   "id": "9002868b-874c-4d8c-9e5c-941ffb2ac71c",
   "metadata": {},
   "outputs": [],
   "source": [
    "params = {C_t: 0.5,\n",
    "          K_1: 10**(-3.128),\n",
    "          K_2: 10**(-4.761),\n",
    "          K_3: 10**(-6.4),\n",
    "          pH: 5}"
   ]
  },
  {
   "cell_type": "code",
   "execution_count": 28,
   "id": "5310aa81-634d-4143-849a-dfd65bcf5a11",
   "metadata": {},
   "outputs": [
    {
     "data": {
      "text/plain": [
       "[0.00238395433267339, 0.177540701587358, 0.307820778176236, 0.0122545659037317]"
      ]
     },
     "metadata": {},
     "output_type": "display_data"
    }
   ],
   "source": [
    "dummy_params = {H: 10**(-pH),\n",
    "                K_1_pr: K_1,\n",
    "                K_2_pr: K_2,\n",
    "                K_3_pr: K_3}\n",
    "init_values = [solution1[0][x].subs(dummy_params).subs(params) for x in (H3B, H2B, HB, B)]\n",
    "display(init_values)"
   ]
  },
  {
   "cell_type": "code",
   "execution_count": 29,
   "id": "42e2f002-fd40-4d2a-8628-1dcbac038a93",
   "metadata": {},
   "outputs": [
    {
     "data": {
      "text/plain": [
       "{[H_{3}B]: 0.00141592567404024,\n",
       " [H_{2}B^-]: 0.123563841448821,\n",
       " [HB^{2-}]: 0.344702343715099,\n",
       " [B^{3-}]: 0.0303178891620397}"
      ]
     },
     "metadata": {},
     "output_type": "display_data"
    }
   ],
   "source": [
    "solution2 = nsolve([eq.subs(params) for eq in [Eq15, Eq16, Eq17, Eq18]],\n",
    "                   (H3B, H2B, HB, B), init_values, dict=True)\n",
    "display(solution2[0])"
   ]
  },
  {
   "cell_type": "markdown",
   "id": "f336abd6-d3db-40c1-9781-7af7d5a31161",
   "metadata": {},
   "source": [
    "#### Defining a function"
   ]
  },
  {
   "cell_type": "code",
   "execution_count": 33,
   "id": "186c0abd-7ce2-4e7a-a98e-958b802d8cb1",
   "metadata": {},
   "outputs": [],
   "source": [
    "def calc_conc_H3B(C_total, pK_1, pK_2, pK_3, peH):\n",
    "    dummy_params = {H: 10**(-pH),\n",
    "                K_1_pr: 10**(-pK_1),\n",
    "                K_2_pr: 10**(-pK_2),\n",
    "                K_3_pr: 10**(-pK_3)}\n",
    "    real_params = {C_t: C_total,\n",
    "                  K_1: 10**(-pK_1),\n",
    "                  K_2: 10**(-pK_2),\n",
    "                  K_3: 10**(-pK_3),\n",
    "                  pH: peH}\n",
    "    init_values = [solution1[0][x].subs(dummy_params).subs(real_params) for x in (H3B, H2B, HB, B)]\n",
    "    solution = nsolve([eq.subs(real_params) for eq in [Eq15, Eq16, Eq17, Eq18]],\n",
    "                      (H3B, H2B, HB, B), init_values, dict=False, prec=20)\n",
    "    return solution"
   ]
  },
  {
   "cell_type": "code",
   "execution_count": 35,
   "id": "ed93206a-19cb-48cd-a5fa-a91dbd580a49",
   "metadata": {},
   "outputs": [
    {
     "name": "stdout",
     "output_type": "stream",
     "text": [
      "2.220446049250313e-16\n",
      "0.010000000000000217\n",
      "0.020000000000000212\n",
      "0.030000000000000207\n",
      "0.0400000000000002\n",
      "0.0500000000000002\n",
      "0.06000000000000019\n",
      "0.07000000000000019\n",
      "0.08000000000000018\n",
      "0.09000000000000018\n",
      "0.10000000000000017\n",
      "0.11000000000000017\n",
      "0.12000000000000016\n",
      "0.13000000000000017\n",
      "0.14000000000000015\n",
      "0.15000000000000013\n",
      "0.16000000000000014\n",
      "0.17000000000000015\n",
      "0.18000000000000013\n",
      "0.1900000000000001\n",
      "0.20000000000000012\n",
      "0.21000000000000013\n",
      "0.2200000000000001\n",
      "0.2300000000000001\n",
      "0.2400000000000001\n",
      "0.2500000000000001\n",
      "0.2600000000000001\n",
      "0.2700000000000001\n",
      "0.2800000000000001\n",
      "0.2900000000000001\n",
      "0.30000000000000004\n",
      "0.31000000000000005\n",
      "0.32000000000000006\n",
      "0.33000000000000007\n",
      "0.3400000000000001\n",
      "0.35000000000000003\n",
      "0.36000000000000004\n",
      "0.37000000000000005\n",
      "0.38\n",
      "0.39\n",
      "0.4\n",
      "0.41000000000000003\n",
      "0.42000000000000004\n",
      "0.43\n",
      "0.44\n",
      "0.45\n",
      "0.45999999999999996\n",
      "0.47\n",
      "0.48\n",
      "0.49\n",
      "0.5\n"
     ]
    }
   ],
   "source": [
    "result = []\n",
    "for C_total in np.linspace(np.finfo(np.float64).eps, 0.5, num=51):\n",
    "    print(C_total)\n",
    "    for peH in np.arange(3, 9, 0.1):\n",
    "        #print(peH)\n",
    "        line = [C_total, peH, *calc_conc_H3B(C_total, 3.128, 4.76, 6.4, peH)]\n",
    "        result.append(line)\n",
    "result = np.asarray(result)\n"
   ]
  },
  {
   "cell_type": "code",
   "execution_count": 36,
   "id": "ef2745da-6fde-4a2f-aaec-8380c2c717b2",
   "metadata": {},
   "outputs": [],
   "source": [
    "np.savetxt('Citric_acid_3pKa_0-0.5M_pH3-pH9.csv', result, delimiter=';',\n",
    "           header=\"Total buffer concentration (M); pH; C(H3B); C(H2B); C(HB); C(B)\",\n",
    "           footer=\"Calculated for citric acid considering all three pKa: 3.128, 4.76 and 6.4\", comments=\"% \")"
   ]
  },
  {
   "cell_type": "markdown",
   "id": "14b2061d-8311-4e3f-bcc8-41a223605fef",
   "metadata": {},
   "source": [
    "## Only if need to calculate with supporting electrolyte"
   ]
  },
  {
   "cell_type": "code",
   "execution_count": 15,
   "id": "cc585d28-695d-425b-80ef-e3d5a98cd8d8",
   "metadata": {},
   "outputs": [
    {
     "data": {
      "text/latex": [
       "$\\displaystyle K_{1} = \\frac{10^{- pH} 10^{0.46035 C_{sup} + 0.9207 [B^{3-}] + 0.46035 [HB^{2-}] + 0.15345 [H_{2}B^-] - \\frac{1.2529140034336 \\sqrt{0.5 C_{sup} + [B^{3-}] + 0.5 [HB^{2-}] + 0.166666666666667 [H_{2}B^-]}}{2.44948974278318 \\sqrt{0.5 C_{sup} + [B^{3-}] + 0.5 [HB^{2-}] + 0.166666666666667 [H_{2}B^-]} + 1}} [H_{2}B^-]}{[H_{3}B]}$"
      ],
      "text/plain": [
       "Eq(K_1, 10**(0.46035*C_{sup} + 0.9207*[B^{3-}] + 0.46035*[HB^{2-}] + 0.15345*[H_{2}B^-] - 1.2529140034336*sqrt(0.5*C_{sup} + [B^{3-}] + 0.5*[HB^{2-}] + 0.166666666666667*[H_{2}B^-])/(2.44948974278318*sqrt(0.5*C_{sup} + [B^{3-}] + 0.5*[HB^{2-}] + 0.166666666666667*[H_{2}B^-]) + 1))*[H_{2}B^-]/(10**pH*[H_{3}B]))"
      ]
     },
     "metadata": {},
     "output_type": "display_data"
    },
    {
     "data": {
      "text/latex": [
       "$\\displaystyle K_{2} = \\frac{10^{- pH} 10^{- 0.46035 C_{sup} - 0.9207 [B^{3-}] - 0.46035 [HB^{2-}] - 0.15345 [H_{2}B^-] + \\frac{1.2529140034336 \\sqrt{0.5 C_{sup} + [B^{3-}] + 0.5 [HB^{2-}] + 0.166666666666667 [H_{2}B^-]}}{2.44948974278318 \\sqrt{0.5 C_{sup} + [B^{3-}] + 0.5 [HB^{2-}] + 0.166666666666667 [H_{2}B^-]} + 1}} \\cdot 10^{1.8414 C_{sup} + 3.6828 [B^{3-}] + 1.8414 [HB^{2-}] + 0.6138 [H_{2}B^-] - \\frac{5.01165601373438 \\sqrt{0.5 C_{sup} + [B^{3-}] + 0.5 [HB^{2-}] + 0.166666666666667 [H_{2}B^-]}}{2.44948974278318 \\sqrt{0.5 C_{sup} + [B^{3-}] + 0.5 [HB^{2-}] + 0.166666666666667 [H_{2}B^-]} + 1}} [HB^{2-}]}{[H_{2}B^-]}$"
      ],
      "text/plain": [
       "Eq(K_2, 10**(-0.46035*C_{sup} - 0.9207*[B^{3-}] - 0.46035*[HB^{2-}] - 0.15345*[H_{2}B^-] + 1.2529140034336*sqrt(0.5*C_{sup} + [B^{3-}] + 0.5*[HB^{2-}] + 0.166666666666667*[H_{2}B^-])/(2.44948974278318*sqrt(0.5*C_{sup} + [B^{3-}] + 0.5*[HB^{2-}] + 0.166666666666667*[H_{2}B^-]) + 1))*10**(1.8414*C_{sup} + 3.6828*[B^{3-}] + 1.8414*[HB^{2-}] + 0.6138*[H_{2}B^-] - 5.01165601373438*sqrt(0.5*C_{sup} + [B^{3-}] + 0.5*[HB^{2-}] + 0.166666666666667*[H_{2}B^-])/(2.44948974278318*sqrt(0.5*C_{sup} + [B^{3-}] + 0.5*[HB^{2-}] + 0.166666666666667*[H_{2}B^-]) + 1))*[HB^{2-}]/(10**pH*[H_{2}B^-]))"
      ]
     },
     "metadata": {},
     "output_type": "display_data"
    },
    {
     "data": {
      "text/latex": [
       "$\\displaystyle K_{3} = \\frac{10^{- pH} 10^{- 1.8414 C_{sup} - 3.6828 [B^{3-}] - 1.8414 [HB^{2-}] - 0.6138 [H_{2}B^-] + \\frac{5.01165601373438 \\sqrt{0.5 C_{sup} + [B^{3-}] + 0.5 [HB^{2-}] + 0.166666666666667 [H_{2}B^-]}}{2.44948974278318 \\sqrt{0.5 C_{sup} + [B^{3-}] + 0.5 [HB^{2-}] + 0.166666666666667 [H_{2}B^-]} + 1}} \\cdot 10^{4.14315 C_{sup} + 8.2863 [B^{3-}] + 4.14315 [HB^{2-}] + 1.38105 [H_{2}B^-] - \\frac{11.2762260309024 \\sqrt{0.5 C_{sup} + [B^{3-}] + 0.5 [HB^{2-}] + 0.166666666666667 [H_{2}B^-]}}{2.44948974278318 \\sqrt{0.5 C_{sup} + [B^{3-}] + 0.5 [HB^{2-}] + 0.166666666666667 [H_{2}B^-]} + 1}} [B^{3-}]}{[HB^{2-}]}$"
      ],
      "text/plain": [
       "Eq(K_3, 10**(-1.8414*C_{sup} - 3.6828*[B^{3-}] - 1.8414*[HB^{2-}] - 0.6138*[H_{2}B^-] + 5.01165601373438*sqrt(0.5*C_{sup} + [B^{3-}] + 0.5*[HB^{2-}] + 0.166666666666667*[H_{2}B^-])/(2.44948974278318*sqrt(0.5*C_{sup} + [B^{3-}] + 0.5*[HB^{2-}] + 0.166666666666667*[H_{2}B^-]) + 1))*10**(4.14315*C_{sup} + 8.2863*[B^{3-}] + 4.14315*[HB^{2-}] + 1.38105*[H_{2}B^-] - 11.2762260309024*sqrt(0.5*C_{sup} + [B^{3-}] + 0.5*[HB^{2-}] + 0.166666666666667*[H_{2}B^-])/(2.44948974278318*sqrt(0.5*C_{sup} + [B^{3-}] + 0.5*[HB^{2-}] + 0.166666666666667*[H_{2}B^-]) + 1))*[B^{3-}]/(10**pH*[HB^{2-}]))"
      ]
     },
     "metadata": {},
     "output_type": "display_data"
    }
   ],
   "source": [
    "# if we now substitute I:\n",
    "Eq16 = Eq11.subs(I, I_expr+3*C_sup)\n",
    "Eq17 = Eq12.subs(I, I_expr+3*C_sup)\n",
    "Eq18 = Eq13.subs(I, I_expr+3*C_sup)\n",
    "display(Eq16, Eq17, Eq18)"
   ]
  },
  {
   "cell_type": "code",
   "execution_count": 16,
   "id": "7b3dddc2-d0bd-44a7-b107-2614e5efbdb5",
   "metadata": {},
   "outputs": [],
   "source": [
    "def calc_conc_H3B_supp(C_total, pK_1, pK_2, pK_3, peH, C_supp=0):\n",
    "    dummy_params = {H: 10**(-pH),\n",
    "                K_1_pr: 10**(-pK_1),\n",
    "                K_2_pr: 10**(-pK_2),\n",
    "                K_3_pr: 10**(-pK_3)}\n",
    "    real_params = {C_t: C_total,\n",
    "                  K_1: 10**(-pK_1),\n",
    "                  K_2: 10**(-pK_2),\n",
    "                  K_3: 10**(-pK_3),\n",
    "                  pH: peH,\n",
    "                  C_sup: C_supp}\n",
    "    init_values = [solution1[0][x].subs(dummy_params).subs(real_params) for x in (H3B, H2B, HB, B)]\n",
    "    solution = nsolve([eq.subs(real_params) for eq in [Eq15, Eq16, Eq17, Eq18]],\n",
    "                      (H3B, H2B, HB, B), init_values, dict=False, prec=20)\n",
    "    return solution"
   ]
  },
  {
   "cell_type": "code",
   "execution_count": 29,
   "id": "d6e911d0-a481-4c33-a69c-142c8d8fbdf0",
   "metadata": {},
   "outputs": [
    {
     "name": "stdout",
     "output_type": "stream",
     "text": [
      "2.220446049250313e-16\n",
      "0.0010000000000002177\n",
      "0.0020000000000002134\n",
      "0.003000000000000209\n",
      "0.004000000000000205\n",
      "0.0050000000000002005\n",
      "0.006000000000000196\n",
      "0.007000000000000192\n",
      "0.008000000000000188\n",
      "0.009000000000000183\n",
      "0.010000000000000179\n",
      "0.011000000000000175\n",
      "0.01200000000000017\n",
      "0.013000000000000166\n",
      "0.014000000000000162\n",
      "0.015000000000000157\n",
      "0.016000000000000153\n",
      "0.017000000000000147\n",
      "0.018000000000000144\n",
      "0.019000000000000142\n",
      "0.020000000000000136\n",
      "0.02100000000000013\n",
      "0.022000000000000127\n",
      "0.023000000000000125\n",
      "0.02400000000000012\n",
      "0.025000000000000112\n",
      "0.02600000000000011\n",
      "0.027000000000000107\n",
      "0.0280000000000001\n",
      "0.029000000000000095\n",
      "0.030000000000000093\n",
      "0.03100000000000009\n",
      "0.032000000000000084\n",
      "0.03300000000000008\n",
      "0.03400000000000007\n",
      "0.03500000000000007\n",
      "0.03600000000000007\n",
      "0.03700000000000006\n",
      "0.03800000000000006\n",
      "0.039000000000000055\n",
      "0.04000000000000005\n",
      "0.04100000000000004\n",
      "0.04200000000000004\n",
      "0.04300000000000004\n",
      "0.04400000000000003\n",
      "0.045000000000000026\n",
      "0.04600000000000003\n",
      "0.04700000000000002\n",
      "0.048000000000000015\n",
      "0.04900000000000001\n",
      "0.05\n"
     ]
    }
   ],
   "source": [
    "result = []\n",
    "for C_total in np.linspace(np.finfo(np.float64).eps, 0.05, num=51):\n",
    "    print(C_total)\n",
    "    for peH in np.arange(3, 9, 0.1):\n",
    "        #print(peH)\n",
    "        line = [C_total, peH, *calc_conc_H3B_supp(C_total, 3.128, 4.76, 6.4, peH, C_supp=max(0,0.025-C_total/2))]\n",
    "        result.append(line)\n",
    "result = np.asarray(result)\n"
   ]
  },
  {
   "cell_type": "code",
   "execution_count": 30,
   "id": "499675ee-8e28-4068-a561-e4138dc93187",
   "metadata": {},
   "outputs": [],
   "source": [
    "np.savetxt('Citric_acid_3pKa_0-0.05M_pH3-pH9_withNa2SO4.csv', result, delimiter=';',\n",
    "           header=\"Total buffer concentration (M); pH; C(H3B); C(H2B); C(HB); C(B)\",\n",
    "           footer=\"Calculated for citric acid considering all three pKa: 3.128, 4.76 and 6.4. Also, it is assumed the presence of (25 - x/2) mM Na2SO4 (x - buffer concentration) \", comments=\"% \")"
   ]
  },
  {
   "cell_type": "code",
   "execution_count": null,
   "id": "8b7a1f84-50ce-4c0d-a5ef-62b9d3d18d49",
   "metadata": {},
   "outputs": [],
   "source": []
  }
 ],
 "metadata": {
  "kernelspec": {
   "display_name": "Python (sympy)",
   "language": "python",
   "name": "sympy_env"
  },
  "language_info": {
   "codemirror_mode": {
    "name": "ipython",
    "version": 3
   },
   "file_extension": ".py",
   "mimetype": "text/x-python",
   "name": "python",
   "nbconvert_exporter": "python",
   "pygments_lexer": "ipython3",
   "version": "3.10.4"
  }
 },
 "nbformat": 4,
 "nbformat_minor": 5
}
